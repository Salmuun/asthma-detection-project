{
 "cells": [
  {
   "cell_type": "code",
   "execution_count": 57,
   "id": "c169e372",
   "metadata": {},
   "outputs": [],
   "source": [
    "import pandas as pd\n",
    "from sklearn.model_selection import train_test_split\n",
    "from sklearn.metrics import accuracy_score, classification_report\n",
    "from sklearn.ensemble import RandomForestClassifier"
   ]
  },
  {
   "cell_type": "code",
   "execution_count": 58,
   "id": "9afda822",
   "metadata": {},
   "outputs": [],
   "source": [
    "df = pd.read_csv('Asthma.csv')"
   ]
  },
  {
   "cell_type": "code",
   "execution_count": 59,
   "id": "11ebe612",
   "metadata": {},
   "outputs": [],
   "source": [
    "df = df.drop(columns=['Severity_Mild', 'Severity_Moderate'])\n",
    "df.rename(columns={'Severity_None': 'Target'}, inplace=True)"
   ]
  },
  {
   "cell_type": "code",
   "execution_count": 60,
   "id": "ea91f774",
   "metadata": {},
   "outputs": [],
   "source": [
    "x = df.drop(columns=['Target'])\n",
    "y  = df['Target']"
   ]
  },
  {
   "cell_type": "code",
   "execution_count": null,
   "id": "e8f92762",
   "metadata": {},
   "outputs": [],
   "source": []
  },
  {
   "cell_type": "code",
   "execution_count": 61,
   "id": "3d0b1638",
   "metadata": {},
   "outputs": [],
   "source": [
    "x_train,x_test,y_train,y_test = train_test_split(x,y,test_size=0.2,random_state=42)"
   ]
  },
  {
   "cell_type": "code",
   "execution_count": 62,
   "id": "04b3f727",
   "metadata": {},
   "outputs": [
    {
     "data": {
      "text/plain": [
       "array([0, 0, 0, ..., 0, 0, 0])"
      ]
     },
     "execution_count": 62,
     "metadata": {},
     "output_type": "execute_result"
    }
   ],
   "source": [
    "# building model\n",
    "model = RandomForestClassifier(n_estimators=100, max_depth=5, random_state=42)\n",
    "model.fit(x_train, y_train)\n",
    "y_hat = model.predict(x_test)\n",
    "y_hat"
   ]
  },
  {
   "cell_type": "code",
   "execution_count": 63,
   "id": "786faabc",
   "metadata": {},
   "outputs": [
    {
     "name": "stdout",
     "output_type": "stream",
     "text": [
      "**** ACCURACY_SCORE **** \n",
      "\n",
      " 0.7513099747474747 \n",
      "\n",
      "**** CLASSIFICATION_REPORT **** \n",
      "\n",
      "               precision    recall  f1-score   support\n",
      "\n",
      "           0       0.75      1.00      0.86     47603\n",
      "           1       0.00      0.00      0.00     15757\n",
      "\n",
      "    accuracy                           0.75     63360\n",
      "   macro avg       0.38      0.50      0.43     63360\n",
      "weighted avg       0.56      0.75      0.64     63360\n",
      " \n",
      "\n"
     ]
    }
   ],
   "source": [
    "# metrics\n",
    "print('**** ACCURACY_SCORE **** \\n\\n', accuracy_score(y_test, y_hat), '\\n')\n",
    "print('**** CLASSIFICATION_REPORT **** \\n\\n', classification_report(y_test, y_hat), '\\n')"
   ]
  },
  {
   "cell_type": "code",
   "execution_count": null,
   "id": "52be7f73",
   "metadata": {},
   "outputs": [],
   "source": []
  },
  {
   "cell_type": "code",
   "execution_count": null,
   "id": "640dd4ab",
   "metadata": {},
   "outputs": [],
   "source": []
  },
  {
   "cell_type": "code",
   "execution_count": null,
   "id": "affa5de6",
   "metadata": {},
   "outputs": [],
   "source": []
  },
  {
   "cell_type": "code",
   "execution_count": 19,
   "id": "ebaadbd2",
   "metadata": {},
   "outputs": [],
   "source": []
  },
  {
   "cell_type": "code",
   "execution_count": 20,
   "id": "2ff798d9",
   "metadata": {
    "collapsed": true
   },
   "outputs": [
    {
     "name": "stdout",
     "output_type": "stream",
     "text": [
      "0.6929202741702741\n",
      "0.6748526936026936\n",
      "              precision    recall  f1-score   support\n",
      "\n",
      "           0       0.68      0.67      0.67     47690\n",
      "           1       0.67      0.68      0.68     47350\n",
      "\n",
      "    accuracy                           0.67     95040\n",
      "   macro avg       0.67      0.67      0.67     95040\n",
      "weighted avg       0.67      0.67      0.67     95040\n",
      "\n"
     ]
    }
   ],
   "source": []
  },
  {
   "cell_type": "code",
   "execution_count": null,
   "id": "724fa5df",
   "metadata": {},
   "outputs": [],
   "source": []
  }
 ],
 "metadata": {
  "kernelspec": {
   "display_name": "Python 3 (ipykernel)",
   "language": "python",
   "name": "python3"
  },
  "language_info": {
   "codemirror_mode": {
    "name": "ipython",
    "version": 3
   },
   "file_extension": ".py",
   "mimetype": "text/x-python",
   "name": "python",
   "nbconvert_exporter": "python",
   "pygments_lexer": "ipython3",
   "version": "3.11.4"
  }
 },
 "nbformat": 4,
 "nbformat_minor": 5
}
